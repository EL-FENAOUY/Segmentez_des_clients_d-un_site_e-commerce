{
 "cells": [
  {
   "cell_type": "markdown",
   "id": "1941eae9",
   "metadata": {},
   "source": [
    "# Evaluation de la fréquence de mise à jour"
   ]
  },
  {
   "cell_type": "markdown",
   "id": "b3a808f4",
   "metadata": {},
   "source": [
    "On s'intéresse à la stabilité de notre algorithme pour déterminer les dates de maintenance de ce dernier."
   ]
  },
  {
   "cell_type": "markdown",
   "id": "2c632571",
   "metadata": {},
   "source": [
    "Afin d'évaluer la fréquence de mise à jour nécessaire pour maitenir la stabilité de clusters, nous allons étudier les données d'une manière chronologique. La procédure la plus juste consisterais à étudier les commandes dans l'ordre qu'elles arrivent."
   ]
  },
  {
   "cell_type": "markdown",
   "id": "5c090831",
   "metadata": {},
   "source": [
    "## Préparation du jeu de données"
   ]
  },
  {
   "cell_type": "code",
   "execution_count": 387,
   "id": "e29636f2",
   "metadata": {},
   "outputs": [],
   "source": [
    "import pandas as pd\n",
    "import missingno as msno\n",
    "import matplotlib.pyplot as plt"
   ]
  },
  {
   "cell_type": "code",
   "execution_count": 388,
   "id": "b0ca90a5",
   "metadata": {},
   "outputs": [
    {
     "data": {
      "text/html": [
       "<div>\n",
       "<style scoped>\n",
       "    .dataframe tbody tr th:only-of-type {\n",
       "        vertical-align: middle;\n",
       "    }\n",
       "\n",
       "    .dataframe tbody tr th {\n",
       "        vertical-align: top;\n",
       "    }\n",
       "\n",
       "    .dataframe thead th {\n",
       "        text-align: right;\n",
       "    }\n",
       "</style>\n",
       "<table border=\"1\" class=\"dataframe\">\n",
       "  <thead>\n",
       "    <tr style=\"text-align: right;\">\n",
       "      <th></th>\n",
       "      <th>customer_unique_id</th>\n",
       "      <th>customer_city</th>\n",
       "      <th>index</th>\n",
       "      <th>Recency</th>\n",
       "      <th>Frequency</th>\n",
       "      <th>MonetaryValue</th>\n",
       "      <th>r_quartile</th>\n",
       "      <th>f_bins</th>\n",
       "      <th>m_quartile</th>\n",
       "      <th>RFM_Score</th>\n",
       "      <th>distance_customer_seller</th>\n",
       "      <th>product_category_name</th>\n",
       "      <th>nb_days_before_delivered</th>\n",
       "      <th>review_score</th>\n",
       "    </tr>\n",
       "  </thead>\n",
       "  <tbody>\n",
       "    <tr>\n",
       "      <th>0</th>\n",
       "      <td>000e309254ab1fc5ba99dd469d36bdb4</td>\n",
       "      <td>valparaiso de goias</td>\n",
       "      <td>19</td>\n",
       "      <td>115</td>\n",
       "      <td>2</td>\n",
       "      <td>39.210</td>\n",
       "      <td>1</td>\n",
       "      <td>2</td>\n",
       "      <td>4</td>\n",
       "      <td>124</td>\n",
       "      <td>497.666327</td>\n",
       "      <td>fashion_underwear_beach</td>\n",
       "      <td>14.0</td>\n",
       "      <td>3.0</td>\n",
       "    </tr>\n",
       "    <tr>\n",
       "      <th>1</th>\n",
       "      <td>0028a7d8db7b0247652509358ad8d755</td>\n",
       "      <td>valinhos</td>\n",
       "      <td>55</td>\n",
       "      <td>309</td>\n",
       "      <td>2</td>\n",
       "      <td>177.435</td>\n",
       "      <td>3</td>\n",
       "      <td>2</td>\n",
       "      <td>1</td>\n",
       "      <td>321</td>\n",
       "      <td>363.245845</td>\n",
       "      <td>office_furniture</td>\n",
       "      <td>23.0</td>\n",
       "      <td>3.0</td>\n",
       "    </tr>\n",
       "    <tr>\n",
       "      <th>2</th>\n",
       "      <td>00324c9f4d710e7bac5c5ba679714430</td>\n",
       "      <td>paraiso do tocantins</td>\n",
       "      <td>73</td>\n",
       "      <td>483</td>\n",
       "      <td>2</td>\n",
       "      <td>54.890</td>\n",
       "      <td>4</td>\n",
       "      <td>2</td>\n",
       "      <td>4</td>\n",
       "      <td>424</td>\n",
       "      <td>1480.276994</td>\n",
       "      <td>housewares</td>\n",
       "      <td>12.0</td>\n",
       "      <td>5.0</td>\n",
       "    </tr>\n",
       "    <tr>\n",
       "      <th>3</th>\n",
       "      <td>00986cafefb6e670cceca01694bda599</td>\n",
       "      <td>pedreira</td>\n",
       "      <td>232</td>\n",
       "      <td>290</td>\n",
       "      <td>2</td>\n",
       "      <td>33.455</td>\n",
       "      <td>3</td>\n",
       "      <td>2</td>\n",
       "      <td>4</td>\n",
       "      <td>324</td>\n",
       "      <td>779.771352</td>\n",
       "      <td>stationery</td>\n",
       "      <td>11.0</td>\n",
       "      <td>4.0</td>\n",
       "    </tr>\n",
       "    <tr>\n",
       "      <th>4</th>\n",
       "      <td>00a9fd000ff87bb48b989df819c418f5</td>\n",
       "      <td>rio de janeiro</td>\n",
       "      <td>254</td>\n",
       "      <td>212</td>\n",
       "      <td>4</td>\n",
       "      <td>64.850</td>\n",
       "      <td>2</td>\n",
       "      <td>2</td>\n",
       "      <td>3</td>\n",
       "      <td>223</td>\n",
       "      <td>1110.099214</td>\n",
       "      <td>cool_stuff</td>\n",
       "      <td>6.0</td>\n",
       "      <td>5.0</td>\n",
       "    </tr>\n",
       "  </tbody>\n",
       "</table>\n",
       "</div>"
      ],
      "text/plain": [
       "                 customer_unique_id         customer_city  index  Recency  \\\n",
       "0  000e309254ab1fc5ba99dd469d36bdb4   valparaiso de goias     19      115   \n",
       "1  0028a7d8db7b0247652509358ad8d755              valinhos     55      309   \n",
       "2  00324c9f4d710e7bac5c5ba679714430  paraiso do tocantins     73      483   \n",
       "3  00986cafefb6e670cceca01694bda599              pedreira    232      290   \n",
       "4  00a9fd000ff87bb48b989df819c418f5        rio de janeiro    254      212   \n",
       "\n",
       "   Frequency  MonetaryValue  r_quartile  f_bins  m_quartile  RFM_Score  \\\n",
       "0          2         39.210           1       2           4        124   \n",
       "1          2        177.435           3       2           1        321   \n",
       "2          2         54.890           4       2           4        424   \n",
       "3          2         33.455           3       2           4        324   \n",
       "4          4         64.850           2       2           3        223   \n",
       "\n",
       "   distance_customer_seller    product_category_name  \\\n",
       "0                497.666327  fashion_underwear_beach   \n",
       "1                363.245845         office_furniture   \n",
       "2               1480.276994               housewares   \n",
       "3                779.771352               stationery   \n",
       "4               1110.099214               cool_stuff   \n",
       "\n",
       "   nb_days_before_delivered  review_score  \n",
       "0                      14.0           3.0  \n",
       "1                      23.0           3.0  \n",
       "2                      12.0           5.0  \n",
       "3                      11.0           4.0  \n",
       "4                       6.0           5.0  "
      ]
     },
     "execution_count": 388,
     "metadata": {},
     "output_type": "execute_result"
    }
   ],
   "source": [
    "data = pd.read_csv(\"C:/Users/lenovo/Olist/data_short.csv\")\n",
    "data.head()"
   ]
  },
  {
   "cell_type": "code",
   "execution_count": 389,
   "id": "35eaf3d7",
   "metadata": {},
   "outputs": [],
   "source": [
    "df = pd.read_csv(\"C:/Users/lenovo/Olist/df.csv\")"
   ]
  },
  {
   "cell_type": "code",
   "execution_count": 390,
   "id": "dda60c2c",
   "metadata": {},
   "outputs": [],
   "source": [
    "col_drop = ['Unnamed: 0','customer_id', 'customer_city',\n",
    "       'customer_latitude','customer_longitude','order_id','order_status',\n",
    "        'order_approved_at',\n",
    "       'order_delivered_carrier_date','order_delivered_customer_date',\n",
    "       'order_estimated_delivery_date', 'payment_sequential', 'payment_type',\n",
    "       'payment_installments', 'payment_value']"
   ]
  },
  {
   "cell_type": "code",
   "execution_count": 391,
   "id": "58eb55a1",
   "metadata": {},
   "outputs": [],
   "source": [
    "df.drop(col_drop, axis=1, inplace=True)"
   ]
  },
  {
   "cell_type": "code",
   "execution_count": 392,
   "id": "589a5e24",
   "metadata": {},
   "outputs": [],
   "source": [
    "data_stab = pd.merge(data, df, left_on=\"customer_unique_id\",\n",
    "              right_on=\"customer_unique_id\", how=\"left\")"
   ]
  },
  {
   "cell_type": "code",
   "execution_count": 393,
   "id": "95895596",
   "metadata": {},
   "outputs": [],
   "source": [
    "data_stab=data_stab.drop_duplicates()"
   ]
  },
  {
   "cell_type": "code",
   "execution_count": 394,
   "id": "7fc9745f",
   "metadata": {},
   "outputs": [
    {
     "data": {
      "text/plain": [
       "<AxesSubplot:>"
      ]
     },
     "execution_count": 394,
     "metadata": {},
     "output_type": "execute_result"
    },
    {
     "data": {
      "image/png": "[encoded data removed]",
      "text/plain": [
       "<Figure size 1800x720 with 2 Axes>"
      ]
     },
     "metadata": {
      "needs_background": "light"
     },
     "output_type": "display_data"
    }
   ],
   "source": [
    "msno.matrix(data_stab)"
   ]
  },
  {
   "cell_type": "code",
   "execution_count": 395,
   "id": "53546bde",
   "metadata": {},
   "outputs": [],
   "source": [
    "data_stability = pd.DataFrame()\n",
    "data_stability[\"customer_unique_id\"] = data_stab[\"customer_unique_id\"]\n",
    "data_stability[\"Recency\"] = data_stab[\"Recency\"]\n",
    "data_stability[\"Frequency\"] = data_stab[\"Frequency\"]\n",
    "data_stability[\"MonetaryValue\"] = data_stab[\"MonetaryValue\"]\n",
    "data_stability[\"nb_days_before_delivered\"] = data_stab[\"nb_days_before_delivered\"]\n",
    "data_stability[\"distance_customer_seller\"] = data_stab[\"distance_customer_seller\"]\n",
    "data_stability[\"order_purchase_timestamp\"] = data_stab[\"order_purchase_timestamp\"]\n",
    "#data_stability.set_index(\"customer_unique_id\", inplace=True)"
   ]
  },
  {
   "cell_type": "code",
   "execution_count": 396,
   "id": "64965f65",
   "metadata": {},
   "outputs": [
    {
     "data": {
      "text/html": [
       "<div>\n",
       "<style scoped>\n",
       "    .dataframe tbody tr th:only-of-type {\n",
       "        vertical-align: middle;\n",
       "    }\n",
       "\n",
       "    .dataframe tbody tr th {\n",
       "        vertical-align: top;\n",
       "    }\n",
       "\n",
       "    .dataframe thead th {\n",
       "        text-align: right;\n",
       "    }\n",
       "</style>\n",
       "<table border=\"1\" class=\"dataframe\">\n",
       "  <thead>\n",
       "    <tr style=\"text-align: right;\">\n",
       "      <th></th>\n",
       "      <th>customer_unique_id</th>\n",
       "      <th>Recency</th>\n",
       "      <th>Frequency</th>\n",
       "      <th>MonetaryValue</th>\n",
       "      <th>nb_days_before_delivered</th>\n",
       "      <th>distance_customer_seller</th>\n",
       "      <th>order_purchase_timestamp</th>\n",
       "    </tr>\n",
       "  </thead>\n",
       "  <tbody>\n",
       "    <tr>\n",
       "      <th>0</th>\n",
       "      <td>000e309254ab1fc5ba99dd469d36bdb4</td>\n",
       "      <td>115</td>\n",
       "      <td>2</td>\n",
       "      <td>39.210</td>\n",
       "      <td>14.0</td>\n",
       "      <td>497.666327</td>\n",
       "      <td>2018-06-25 09:53:57</td>\n",
       "    </tr>\n",
       "    <tr>\n",
       "      <th>2</th>\n",
       "      <td>0028a7d8db7b0247652509358ad8d755</td>\n",
       "      <td>309</td>\n",
       "      <td>2</td>\n",
       "      <td>177.435</td>\n",
       "      <td>23.0</td>\n",
       "      <td>363.245845</td>\n",
       "      <td>2017-12-13 15:49:39</td>\n",
       "    </tr>\n",
       "    <tr>\n",
       "      <th>4</th>\n",
       "      <td>00324c9f4d710e7bac5c5ba679714430</td>\n",
       "      <td>483</td>\n",
       "      <td>2</td>\n",
       "      <td>54.890</td>\n",
       "      <td>12.0</td>\n",
       "      <td>1480.276994</td>\n",
       "      <td>2017-06-21 20:40:38</td>\n",
       "    </tr>\n",
       "    <tr>\n",
       "      <th>6</th>\n",
       "      <td>00986cafefb6e670cceca01694bda599</td>\n",
       "      <td>290</td>\n",
       "      <td>2</td>\n",
       "      <td>33.455</td>\n",
       "      <td>11.0</td>\n",
       "      <td>779.771352</td>\n",
       "      <td>2017-12-31 17:55:07</td>\n",
       "    </tr>\n",
       "    <tr>\n",
       "      <th>8</th>\n",
       "      <td>00a9fd000ff87bb48b989df819c418f5</td>\n",
       "      <td>212</td>\n",
       "      <td>4</td>\n",
       "      <td>64.850</td>\n",
       "      <td>6.0</td>\n",
       "      <td>1110.099214</td>\n",
       "      <td>2018-03-20 07:08:27</td>\n",
       "    </tr>\n",
       "  </tbody>\n",
       "</table>\n",
       "</div>"
      ],
      "text/plain": [
       "                 customer_unique_id  Recency  Frequency  MonetaryValue  \\\n",
       "0  000e309254ab1fc5ba99dd469d36bdb4      115          2         39.210   \n",
       "2  0028a7d8db7b0247652509358ad8d755      309          2        177.435   \n",
       "4  00324c9f4d710e7bac5c5ba679714430      483          2         54.890   \n",
       "6  00986cafefb6e670cceca01694bda599      290          2         33.455   \n",
       "8  00a9fd000ff87bb48b989df819c418f5      212          4         64.850   \n",
       "\n",
       "   nb_days_before_delivered  distance_customer_seller order_purchase_timestamp  \n",
       "0                      14.0                497.666327      2018-06-25 09:53:57  \n",
       "2                      23.0                363.245845      2017-12-13 15:49:39  \n",
       "4                      12.0               1480.276994      2017-06-21 20:40:38  \n",
       "6                      11.0                779.771352      2017-12-31 17:55:07  \n",
       "8                       6.0               1110.099214      2018-03-20 07:08:27  "
      ]
     },
     "execution_count": 396,
     "metadata": {},
     "output_type": "execute_result"
    }
   ],
   "source": [
    "data_stability.head()"
   ]
  },
  {
   "cell_type": "code",
   "execution_count": 397,
   "id": "1978142b",
   "metadata": {},
   "outputs": [
    {
     "name": "stdout",
     "output_type": "stream",
     "text": [
      "<class 'pandas.core.frame.DataFrame'>\n",
      "Int64Index: 37683 entries, 0 to 41660\n",
      "Data columns (total 7 columns):\n",
      " #   Column                    Non-Null Count  Dtype  \n",
      "---  ------                    --------------  -----  \n",
      " 0   customer_unique_id        37683 non-null  object \n",
      " 1   Recency                   37683 non-null  int64  \n",
      " 2   Frequency                 37683 non-null  int64  \n",
      " 3   MonetaryValue             37683 non-null  float64\n",
      " 4   nb_days_before_delivered  37683 non-null  float64\n",
      " 5   distance_customer_seller  37683 non-null  float64\n",
      " 6   order_purchase_timestamp  37683 non-null  object \n",
      "dtypes: float64(3), int64(2), object(2)\n",
      "memory usage: 2.3+ MB\n"
     ]
    }
   ],
   "source": [
    "data_stability.info()"
   ]
  },
  {
   "cell_type": "code",
   "execution_count": 398,
   "id": "6785e7e7",
   "metadata": {},
   "outputs": [],
   "source": [
    "data_stability=data_stability.reset_index(drop=True)\n",
    "\n"
   ]
  },
  {
   "cell_type": "code",
   "execution_count": 399,
   "id": "f9a6ca7b",
   "metadata": {},
   "outputs": [
    {
     "data": {
      "text/plain": [
       "(37683, 7)"
      ]
     },
     "execution_count": 399,
     "metadata": {},
     "output_type": "execute_result"
    }
   ],
   "source": [
    "data_stability.shape"
   ]
  },
  {
   "cell_type": "code",
   "execution_count": 400,
   "id": "371ba751",
   "metadata": {},
   "outputs": [],
   "source": [
    "list_categories_1, list_categories_2 = [], []\n",
    "for txt in data_stability[\"order_purchase_timestamp\"]:\n",
    "    \n",
    "        list_categories_1.append(txt.split(\"-\")[0])\n",
    "        list_categories_2.append(txt.split(\"-\")[1])"
   ]
  },
  {
   "cell_type": "code",
   "execution_count": 401,
   "id": "3c214125",
   "metadata": {},
   "outputs": [],
   "source": [
    "data_stability[\"année\"] = pd.Series(list_categories_1)\n",
    "data_stability[\"mois\"] = pd.Series(list_categories_2)"
   ]
  },
  {
   "cell_type": "code",
   "execution_count": 402,
   "id": "95582d2f",
   "metadata": {},
   "outputs": [],
   "source": [
    "data_stability=data_stability.sort_values(by = ['année', 'mois'], ascending = [True, False]) #: tri par ordre décroissant.\n",
    "data_stability['année'] = data_stability['année'].astype(int)\n",
    "data_stability['mois'] = data_stability['mois'].astype(int)\n",
    "data_stability_2017 = data_stability[data_stability['année']==2017]\n",
    "data_stability_2017=data_stability_2017.sort_values(by = 'mois', ascending = True)"
   ]
  },
  {
   "cell_type": "code",
   "execution_count": null,
   "id": "fab10f4a",
   "metadata": {},
   "outputs": [],
   "source": [
    "2017 + janvier 2018\n",
    "puis 2017 + janvier 2018 + février 2018\n",
    "puis 2017 + janvier 2018 + mars 2018\n",
    "puis 2017 + janvier 2018 + Avril 2018\n",
    "puis 2017 + janvier 2018 + Mai 2018\n",
    "puis 2017 + janvier 2018 + juin 2018\n"
   ]
  },
  {
   "cell_type": "code",
   "execution_count": 367,
   "id": "e9bda41d",
   "metadata": {},
   "outputs": [
    {
     "data": {
      "text/html": [
       "<div>\n",
       "<style scoped>\n",
       "    .dataframe tbody tr th:only-of-type {\n",
       "        vertical-align: middle;\n",
       "    }\n",
       "\n",
       "    .dataframe tbody tr th {\n",
       "        vertical-align: top;\n",
       "    }\n",
       "\n",
       "    .dataframe thead th {\n",
       "        text-align: right;\n",
       "    }\n",
       "</style>\n",
       "<table border=\"1\" class=\"dataframe\">\n",
       "  <thead>\n",
       "    <tr style=\"text-align: right;\">\n",
       "      <th></th>\n",
       "      <th>customer_unique_id</th>\n",
       "      <th>Recency</th>\n",
       "      <th>Frequency</th>\n",
       "      <th>MonetaryValue</th>\n",
       "      <th>nb_days_before_delivered</th>\n",
       "      <th>distance_customer_seller</th>\n",
       "      <th>order_purchase_timestamp</th>\n",
       "      <th>année</th>\n",
       "      <th>mois</th>\n",
       "    </tr>\n",
       "  </thead>\n",
       "  <tbody>\n",
       "    <tr>\n",
       "      <th>37645</th>\n",
       "      <td>765369a23b18f4f6dfce1757448fbae0</td>\n",
       "      <td>644</td>\n",
       "      <td>1</td>\n",
       "      <td>131.350</td>\n",
       "      <td>9.0</td>\n",
       "      <td>104.063586</td>\n",
       "      <td>2017-01-11 19:21:04</td>\n",
       "      <td>2017</td>\n",
       "      <td>1</td>\n",
       "    </tr>\n",
       "    <tr>\n",
       "      <th>14692</th>\n",
       "      <td>5045da01402baca564e8d4fe5f74a968</td>\n",
       "      <td>630</td>\n",
       "      <td>1</td>\n",
       "      <td>156.580</td>\n",
       "      <td>8.0</td>\n",
       "      <td>729.529332</td>\n",
       "      <td>2017-01-26 00:16:29</td>\n",
       "      <td>2017</td>\n",
       "      <td>1</td>\n",
       "    </tr>\n",
       "    <tr>\n",
       "      <th>14663</th>\n",
       "      <td>28b532ed2ae560bc90687b4d466d458b</td>\n",
       "      <td>627</td>\n",
       "      <td>1</td>\n",
       "      <td>102.800</td>\n",
       "      <td>6.0</td>\n",
       "      <td>405.742490</td>\n",
       "      <td>2017-01-28 17:57:35</td>\n",
       "      <td>2017</td>\n",
       "      <td>1</td>\n",
       "    </tr>\n",
       "    <tr>\n",
       "      <th>14564</th>\n",
       "      <td>e51eaffb93507fb621df4131e0454edd</td>\n",
       "      <td>626</td>\n",
       "      <td>1</td>\n",
       "      <td>207.900</td>\n",
       "      <td>15.0</td>\n",
       "      <td>961.185526</td>\n",
       "      <td>2017-01-30 14:51:21</td>\n",
       "      <td>2017</td>\n",
       "      <td>1</td>\n",
       "    </tr>\n",
       "    <tr>\n",
       "      <th>14461</th>\n",
       "      <td>2c92b3c621adddeae929cb98870dd6d2</td>\n",
       "      <td>635</td>\n",
       "      <td>1</td>\n",
       "      <td>51.640</td>\n",
       "      <td>9.0</td>\n",
       "      <td>352.468728</td>\n",
       "      <td>2017-01-20 22:18:06</td>\n",
       "      <td>2017</td>\n",
       "      <td>1</td>\n",
       "    </tr>\n",
       "    <tr>\n",
       "      <th>...</th>\n",
       "      <td>...</td>\n",
       "      <td>...</td>\n",
       "      <td>...</td>\n",
       "      <td>...</td>\n",
       "      <td>...</td>\n",
       "      <td>...</td>\n",
       "      <td>...</td>\n",
       "      <td>...</td>\n",
       "      <td>...</td>\n",
       "    </tr>\n",
       "    <tr>\n",
       "      <th>24830</th>\n",
       "      <td>726533e4185c25f2b73d0c52f90f9024</td>\n",
       "      <td>320</td>\n",
       "      <td>1</td>\n",
       "      <td>255.360</td>\n",
       "      <td>13.0</td>\n",
       "      <td>503.742327</td>\n",
       "      <td>2017-12-01 23:29:16</td>\n",
       "      <td>2017</td>\n",
       "      <td>12</td>\n",
       "    </tr>\n",
       "    <tr>\n",
       "      <th>24845</th>\n",
       "      <td>4edd24fa1c0212d8ce769eea27aa1855</td>\n",
       "      <td>311</td>\n",
       "      <td>1</td>\n",
       "      <td>464.980</td>\n",
       "      <td>25.0</td>\n",
       "      <td>2905.705080</td>\n",
       "      <td>2017-12-11 11:42:43</td>\n",
       "      <td>2017</td>\n",
       "      <td>12</td>\n",
       "    </tr>\n",
       "    <tr>\n",
       "      <th>24867</th>\n",
       "      <td>62a36e9a94e5828fec5f6964f740718d</td>\n",
       "      <td>308</td>\n",
       "      <td>1</td>\n",
       "      <td>60.000</td>\n",
       "      <td>18.0</td>\n",
       "      <td>923.123109</td>\n",
       "      <td>2017-12-14 17:13:04</td>\n",
       "      <td>2017</td>\n",
       "      <td>12</td>\n",
       "    </tr>\n",
       "    <tr>\n",
       "      <th>24635</th>\n",
       "      <td>f085d32f56ff8cd1c24ea9eb43ec9edc</td>\n",
       "      <td>316</td>\n",
       "      <td>1</td>\n",
       "      <td>1135.890</td>\n",
       "      <td>1.0</td>\n",
       "      <td>106.018600</td>\n",
       "      <td>2017-12-06 13:56:13</td>\n",
       "      <td>2017</td>\n",
       "      <td>12</td>\n",
       "    </tr>\n",
       "    <tr>\n",
       "      <th>1</th>\n",
       "      <td>0028a7d8db7b0247652509358ad8d755</td>\n",
       "      <td>309</td>\n",
       "      <td>2</td>\n",
       "      <td>177.435</td>\n",
       "      <td>23.0</td>\n",
       "      <td>363.245845</td>\n",
       "      <td>2017-12-13 15:49:39</td>\n",
       "      <td>2017</td>\n",
       "      <td>12</td>\n",
       "    </tr>\n",
       "  </tbody>\n",
       "</table>\n",
       "<p>16932 rows × 9 columns</p>\n",
       "</div>"
      ],
      "text/plain": [
       "                     customer_unique_id  Recency  Frequency  MonetaryValue  \\\n",
       "37645  765369a23b18f4f6dfce1757448fbae0      644          1        131.350   \n",
       "14692  5045da01402baca564e8d4fe5f74a968      630          1        156.580   \n",
       "14663  28b532ed2ae560bc90687b4d466d458b      627          1        102.800   \n",
       "14564  e51eaffb93507fb621df4131e0454edd      626          1        207.900   \n",
       "14461  2c92b3c621adddeae929cb98870dd6d2      635          1         51.640   \n",
       "...                                 ...      ...        ...            ...   \n",
       "24830  726533e4185c25f2b73d0c52f90f9024      320          1        255.360   \n",
       "24845  4edd24fa1c0212d8ce769eea27aa1855      311          1        464.980   \n",
       "24867  62a36e9a94e5828fec5f6964f740718d      308          1         60.000   \n",
       "24635  f085d32f56ff8cd1c24ea9eb43ec9edc      316          1       1135.890   \n",
       "1      0028a7d8db7b0247652509358ad8d755      309          2        177.435   \n",
       "\n",
       "       nb_days_before_delivered  distance_customer_seller  \\\n",
       "37645                       9.0                104.063586   \n",
       "14692                       8.0                729.529332   \n",
       "14663                       6.0                405.742490   \n",
       "14564                      15.0                961.185526   \n",
       "14461                       9.0                352.468728   \n",
       "...                         ...                       ...   \n",
       "24830                      13.0                503.742327   \n",
       "24845                      25.0               2905.705080   \n",
       "24867                      18.0                923.123109   \n",
       "24635                       1.0                106.018600   \n",
       "1                          23.0                363.245845   \n",
       "\n",
       "      order_purchase_timestamp  année  mois  \n",
       "37645      2017-01-11 19:21:04   2017     1  \n",
       "14692      2017-01-26 00:16:29   2017     1  \n",
       "14663      2017-01-28 17:57:35   2017     1  \n",
       "14564      2017-01-30 14:51:21   2017     1  \n",
       "14461      2017-01-20 22:18:06   2017     1  \n",
       "...                        ...    ...   ...  \n",
       "24830      2017-12-01 23:29:16   2017    12  \n",
       "24845      2017-12-11 11:42:43   2017    12  \n",
       "24867      2017-12-14 17:13:04   2017    12  \n",
       "24635      2017-12-06 13:56:13   2017    12  \n",
       "1          2017-12-13 15:49:39   2017    12  \n",
       "\n",
       "[16932 rows x 9 columns]"
      ]
     },
     "execution_count": 367,
     "metadata": {},
     "output_type": "execute_result"
    }
   ],
   "source": [
    "data_stability_2017"
   ]
  },
  {
   "cell_type": "code",
   "execution_count": 384,
   "id": "bba15e7f",
   "metadata": {},
   "outputs": [],
   "source": [
    "data_stability_mois_2018_1 = data_stability[(data_stability['année'] == 2018) & (data_stability['mois']== 1)]\n",
    "data_stability_mois_2018_2 = data_stability[(data_stability['année'] == 2018) & (data_stability['mois']== 2)]\n",
    "data_stability_mois_2018_3 = data_stability[(data_stability['année'] == 2018) & (data_stability['mois']== 3)]\n",
    "data_stability_mois_2018_4 = data_stability[(data_stability['année'] == 2018) & (data_stability['mois']== 4)]\n",
    "data_stability_mois_2018_5 = data_stability[(data_stability['année'] == 2018) & (data_stability['mois']== 5)]\n",
    "data_stability_mois_2018_6 = data_stability[(data_stability['année'] == 2018) & (data_stability['mois']== 6)]\n"
   ]
  },
  {
   "cell_type": "code",
   "execution_count": 385,
   "id": "4a399b74",
   "metadata": {},
   "outputs": [],
   "source": [
    "data_stability_mois_1 = pd.concat([data_stability_2017, data_stability_mois_2018_1])\n",
    "data_stability_mois_2 = pd.concat([data_stability_mois_1, data_stability_mois_2018_2])\n",
    "data_stability_mois_3 = pd.concat([data_stability_mois_2, data_stability_mois_2018_3])\n",
    "data_stability_mois_4 = pd.concat([data_stability_mois_3, data_stability_mois_2018_4])\n",
    "data_stability_mois_5 = pd.concat([data_stability_mois_4, data_stability_mois_2018_5])\n",
    "data_stability_mois_6 = pd.concat([data_stability_mois_5, data_stability_mois_2018_6])\n"
   ]
  },
  {
   "cell_type": "code",
   "execution_count": null,
   "id": "966c9719",
   "metadata": {},
   "outputs": [],
   "source": [
    "col_drop_2017 = ['order_purchase_timestamp', 'année', 'mois']\n",
    "data_stability_2017.drop(col_drop_2017 , axis=1, inplace=True)\n",
    "data_stability_2017.set_index(\"customer_unique_id\", inplace=True)\n",
    "data_stability_mois_1.drop(col_drop_2017 , axis=1, inplace=True)\n",
    "data_stability_mois_1.set_index(\"customer_unique_id\", inplace=True)\n",
    "data_stability_mois_2.drop(col_drop_2017 , axis=1, inplace=True)\n",
    "data_stability_mois_2.set_index(\"customer_unique_id\", inplace=True)\n",
    "data_stability_mois_3.drop(col_drop_2017 , axis=1, inplace=True)\n",
    "data_stability_mois_3.set_index(\"customer_unique_id\", inplace=True)\n",
    "data_stability_mois_4.drop(col_drop_2017 , axis=1, inplace=True)\n",
    "data_stability_mois_4.set_index(\"customer_unique_id\", inplace=True)\n",
    "data_stability_mois_5.drop(col_drop_2017 , axis=1, inplace=True)\n",
    "data_stability_mois_5.set_index(\"customer_unique_id\", inplace=True)\n",
    "data_stability_mois_6.drop(col_drop_2017 , axis=1, inplace=True)\n",
    "data_stability_mois_6.set_index(\"customer_unique_id\", inplace=True)"
   ]
  },
  {
   "cell_type": "code",
   "execution_count": 375,
   "id": "d18a5c7e",
   "metadata": {},
   "outputs": [],
   "source": [
    "from sklearn.cluster import KMeans\n",
    "model = KMeans(n_clusters=4, random_state=42)\n",
    "\n",
    "label_true = model.fit_predict(data_stability_2017)\n"
   ]
  },
  {
   "cell_type": "code",
   "execution_count": 380,
   "id": "9dc35a29",
   "metadata": {},
   "outputs": [],
   "source": [
    "#model1\n",
    "model_1 = model.fit(data_stability_mois_1)\n",
    "lebel_mois_1 = model_1.predict(data_stability_2017)\n",
    "#model2\n",
    "model_2 = model.fit(data_stability_mois_2)\n",
    "lebel_mois_2 = model_2.predict(data_stability_2017)\n",
    "#model3\n",
    "model_3 = model.fit(data_stability_mois_3)\n",
    "lebel_mois_3 = model_3.predict(data_stability_2017)\n",
    "#model4\n",
    "model_4 = model.fit(data_stability_mois_4)\n",
    "lebel_mois_4 = model_4.predict(data_stability_2017)\n",
    "#model5\n",
    "model_5 = model.fit(data_stability_mois_5)\n",
    "lebel_mois_5 = model_5.predict(data_stability_2017)\n",
    "#model6\n",
    "model_6 = model.fit(data_stability_mois_6)\n",
    "lebel_mois_6 = model_6.predict(data_stability_2017)\n"
   ]
  },
  {
   "cell_type": "code",
   "execution_count": 382,
   "id": "3c43f667",
   "metadata": {},
   "outputs": [
    {
     "name": "stdout",
     "output_type": "stream",
     "text": [
      "ARI à 1 mois : 0.9833566424014306\n",
      "ARI à 2 mois : 0.9818831451869484\n",
      "ARI à 3 mois : 0.4272196334896431\n",
      "ARI à 4 mois : 0.4321864010850646\n",
      "ARI à 5 mois : 0.43079495856075734\n",
      "ARI à 6 mois : 0.4314602234000591\n"
     ]
    }
   ],
   "source": [
    "from sklearn.metrics import adjusted_rand_score\n",
    "\n",
    "print(\"ARI à 1 mois :\", \\\n",
    "      adjusted_rand_score(label_true , \\\n",
    "                          lebel_mois_1))\n",
    "print(\"ARI à 2 mois :\", \\\n",
    "      adjusted_rand_score(label_true , \\\n",
    "                          lebel_mois_2))\n",
    "print(\"ARI à 3 mois :\", \\\n",
    "      adjusted_rand_score(label_true , \\\n",
    "                          lebel_mois_3))\n",
    "print(\"ARI à 4 mois :\", \\\n",
    "      adjusted_rand_score(label_true , \\\n",
    "                          lebel_mois_4))\n",
    "print(\"ARI à 5 mois :\", \\\n",
    "      adjusted_rand_score(label_true , \\\n",
    "                          lebel_mois_5))\n",
    "print(\"ARI à 6 mois :\", \\\n",
    "      adjusted_rand_score(label_true , \\\n",
    "                          lebel_mois_6))"
   ]
  },
  {
   "cell_type": "code",
   "execution_count": 348,
   "id": "36a348bd",
   "metadata": {},
   "outputs": [],
   "source": [
    "liste_ARI = [adjusted_rand_score(label_true,lebel_mois_1),adjusted_rand_score(label_true,lebel_mois_2),adjusted_rand_score(label_true,lebel_mois_3),adjusted_rand_score(label_true,lebel_mois_4),adjusted_rand_score(label_true,lebel_mois_5),adjusted_rand_score(label_true,lebel_mois_6)]"
   ]
  },
  {
   "cell_type": "code",
   "execution_count": 349,
   "id": "f201d819",
   "metadata": {},
   "outputs": [
    {
     "data": {
      "text/plain": [
       "[<matplotlib.lines.Line2D at 0x1f8207b6c88>]"
      ]
     },
     "execution_count": 349,
     "metadata": {},
     "output_type": "execute_result"
    },
    {
     "data": {
      "image/png": "[encoded data removed]",
      "text/plain": [
       "<Figure size 720x576 with 1 Axes>"
      ]
     },
     "metadata": {
      "needs_background": "light"
     },
     "output_type": "display_data"
    }
   ],
   "source": [
    "fig = plt.figure(figsize=(10, 8))\n",
    "ax = fig.add_subplot(1, 1, 1)\n",
    "ax.set_xlabel('Mois à partir de M6', fontsize=15)\n",
    "ax.set_ylabel('Indice de Rand ajusté', fontsize=15)\n",
    "ax.set_title('Indice de Rand ajusté recalculé par mois', fontsize=20)\n",
    "\n",
    "plt.plot(range(1,7), liste_ARI, color=\"purple\")"
   ]
  },
  {
   "cell_type": "markdown",
   "id": "22edda74",
   "metadata": {},
   "source": [
    "L'indice de Rand devient instable avec une tendance à diminuer à partir de mois 3. La maintenance est donc recommandée au moins tous les 3 mois. "
   ]
  },
  {
   "cell_type": "code",
   "execution_count": 414,
   "id": "e7ea391a",
   "metadata": {},
   "outputs": [],
   "source": [
    "from datetime import datetime, timedelta"
   ]
  },
  {
   "cell_type": "code",
   "execution_count": 417,
   "id": "391cd52f",
   "metadata": {},
   "outputs": [
    {
     "data": {
      "text/plain": [
       "datetime.timedelta(days=1)"
      ]
     },
     "execution_count": 417,
     "metadata": {},
     "output_type": "execute_result"
    }
   ],
   "source": [
    "timedelta(days=1)"
   ]
  }
 ],
 "metadata": {
  "kernelspec": {
   "display_name": "Python 3 (ipykernel)",
   "language": "python",
   "name": "python3"
  },
  "language_info": {
   "codemirror_mode": {
    "name": "ipython",
    "version": 3
   },
   "file_extension": ".py",
   "mimetype": "text/x-python",
   "name": "python",
   "nbconvert_exporter": "python",
   "pygments_lexer": "ipython3",
   "version": "3.7.0"
  }
 },
 "nbformat": 4,
 "nbformat_minor": 5
}
